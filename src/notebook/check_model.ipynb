{
 "cells": [
  {
   "cell_type": "markdown",
   "id": "fd4574ad",
   "metadata": {},
   "source": [
    "# モデルの構造チェックをする"
   ]
  },
  {
   "cell_type": "code",
   "execution_count": 4,
   "id": "bdc8f8bf",
   "metadata": {},
   "outputs": [],
   "source": [
    "from architecture import *\n",
    "from torchinfo import summary"
   ]
  },
  {
   "cell_type": "markdown",
   "id": "ac8c7ef9",
   "metadata": {},
   "source": [
    "### ノートブックで cfg を読み込みたい場合，基本以下のコードをコピペしてください"
   ]
  },
  {
   "cell_type": "code",
   "execution_count": 2,
   "id": "3ca53dc6",
   "metadata": {},
   "outputs": [],
   "source": [
    "from hydra import initialize, compose\n",
    "from conf.config import MyConfig\n",
    "with initialize(version_base=None, config_path=\"../conf\"):\n",
    "    cfg: MyConfig = compose(config_name=\"config.yaml\")"
   ]
  },
  {
   "cell_type": "markdown",
   "id": "d3987144",
   "metadata": {},
   "source": [
    "### cnn_2dの構造チェック"
   ]
  },
  {
   "cell_type": "code",
   "execution_count": 9,
   "id": "aab2944b",
   "metadata": {},
   "outputs": [
    {
     "data": {
      "text/plain": [
       "==========================================================================================\n",
       "Layer (type:depth-idx)                   Output Shape              Param #\n",
       "==========================================================================================\n",
       "CNN_2D                                   [1, 10]                   --\n",
       "├─Conv2d: 1-1                            [1, 16, 28, 28]           160\n",
       "├─BatchNorm2d: 1-2                       [1, 16, 28, 28]           32\n",
       "├─ReLU: 1-3                              [1, 16, 28, 28]           --\n",
       "├─MaxPool2d: 1-4                         [1, 16, 14, 14]           --\n",
       "├─Conv2d: 1-5                            [1, 32, 14, 14]           4,640\n",
       "├─BatchNorm2d: 1-6                       [1, 32, 14, 14]           64\n",
       "├─ReLU: 1-7                              [1, 32, 14, 14]           --\n",
       "├─MaxPool2d: 1-8                         [1, 32, 7, 7]             --\n",
       "├─Conv2d: 1-9                            [1, 64, 7, 7]             18,496\n",
       "├─BatchNorm2d: 1-10                      [1, 64, 7, 7]             128\n",
       "├─ReLU: 1-11                             [1, 64, 7, 7]             --\n",
       "├─MaxPool2d: 1-12                        [1, 64, 3, 3]             --\n",
       "├─Flatten: 1-13                          [1, 576]                  --\n",
       "├─Linear: 1-14                           [1, 128]                  73,856\n",
       "├─BatchNorm1d: 1-15                      [1, 128]                  256\n",
       "├─ReLU: 1-16                             [1, 128]                  --\n",
       "├─Dropout: 1-17                          [1, 128]                  --\n",
       "├─Linear: 1-18                           [1, 10]                   1,290\n",
       "==========================================================================================\n",
       "Total params: 98,922\n",
       "Trainable params: 98,922\n",
       "Non-trainable params: 0\n",
       "Total mult-adds (Units.MEGABYTES): 2.02\n",
       "==========================================================================================\n",
       "Input size (MB): 0.00\n",
       "Forward/backward pass size (MB): 0.35\n",
       "Params size (MB): 0.40\n",
       "Estimated Total Size (MB): 0.75\n",
       "=========================================================================================="
      ]
     },
     "execution_count": 9,
     "metadata": {},
     "output_type": "execute_result"
    }
   ],
   "source": [
    "cfg.model.input_size = (28, 28)\n",
    "cfg.model.output_size = 10\n",
    "cfg.model.num_channels = 1\n",
    "model = cnn_2d.get_model(cfg=cfg)\n",
    "\n",
    "# (1, 1, 28, 28) は入力の形状を表す\n",
    "# (batch_size, num_channels, height, width)\n",
    "summary(model, [(1, cfg.model.num_channels, cfg.model.input_size[0], cfg.model.input_size[1])])"
   ]
  },
  {
   "cell_type": "markdown",
   "id": "85eea0a4",
   "metadata": {},
   "source": [
    "### MLPの構造チェック"
   ]
  },
  {
   "cell_type": "code",
   "execution_count": 11,
   "id": "de48b41a",
   "metadata": {},
   "outputs": [
    {
     "data": {
      "text/plain": [
       "==========================================================================================\n",
       "Layer (type:depth-idx)                   Output Shape              Param #\n",
       "==========================================================================================\n",
       "MLP                                      [1]                       --\n",
       "├─Flatten: 1-1                           [1, 100]                  --\n",
       "├─Linear: 1-2                            [1, 32]                   3,232\n",
       "├─ReLU: 1-3                              [1, 32]                   --\n",
       "├─Dropout: 1-4                           [1, 32]                   --\n",
       "├─Linear: 1-5                            [1, 32]                   1,056\n",
       "├─ReLU: 1-6                              [1, 32]                   --\n",
       "├─Dropout: 1-7                           [1, 32]                   --\n",
       "├─Linear: 1-8                            [1, 1]                    33\n",
       "==========================================================================================\n",
       "Total params: 4,321\n",
       "Trainable params: 4,321\n",
       "Non-trainable params: 0\n",
       "Total mult-adds (Units.MEGABYTES): 0.00\n",
       "==========================================================================================\n",
       "Input size (MB): 0.00\n",
       "Forward/backward pass size (MB): 0.00\n",
       "Params size (MB): 0.02\n",
       "Estimated Total Size (MB): 0.02\n",
       "=========================================================================================="
      ]
     },
     "execution_count": 11,
     "metadata": {},
     "output_type": "execute_result"
    }
   ],
   "source": [
    "cfg.model.input_size = 100\n",
    "cfg.model.output_size = 1\n",
    "cfg.model.num_channels = 1\n",
    "model = mlp.get_model(cfg=cfg)\n",
    "\n",
    "# (1, cfg.model.num_channels, cfg.model.input_size) は入力の形状を表す\n",
    "# (batch_size, num_channels, feature_size)\n",
    "summary(model, [(1, cfg.model.num_channels, cfg.model.input_size)])"
   ]
  }
 ],
 "metadata": {
  "kernelspec": {
   "display_name": ".venv",
   "language": "python",
   "name": "python3"
  },
  "language_info": {
   "codemirror_mode": {
    "name": "ipython",
    "version": 3
   },
   "file_extension": ".py",
   "mimetype": "text/x-python",
   "name": "python",
   "nbconvert_exporter": "python",
   "pygments_lexer": "ipython3",
   "version": "3.11.9"
  }
 },
 "nbformat": 4,
 "nbformat_minor": 5
}
