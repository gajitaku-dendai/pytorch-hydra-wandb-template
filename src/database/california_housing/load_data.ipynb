{
 "cells": [
  {
   "cell_type": "code",
   "execution_count": 1,
   "id": "093b17f0",
   "metadata": {},
   "outputs": [],
   "source": [
    "import numpy as np\n",
    "from sklearn.datasets import fetch_california_housing\n",
    "import os\n",
    "from sklearn.model_selection import KFold, train_test_split"
   ]
  },
  {
   "cell_type": "code",
   "execution_count": 2,
   "id": "5314b26e",
   "metadata": {},
   "outputs": [
    {
     "name": "stdout",
     "output_type": "stream",
     "text": [
      "dict_keys(['data', 'target', 'frame', 'target_names', 'feature_names', 'DESCR'])\n"
     ]
    }
   ],
   "source": [
    "# Load the dataset\n",
    "housing_data = fetch_california_housing()\n",
    "\n",
    "# Display the keys of the dataset\n",
    "print(housing_data.keys())"
   ]
  },
  {
   "cell_type": "code",
   "execution_count": 3,
   "id": "f0a7451b",
   "metadata": {},
   "outputs": [
    {
     "name": "stdout",
     "output_type": "stream",
     "text": [
      "(20640, 8) (20640,)\n"
     ]
    }
   ],
   "source": [
    "# Assign data to x and target to label\n",
    "X = housing_data['data']\n",
    "y = housing_data['target']\n",
    "print(X.shape, y.shape)"
   ]
  },
  {
   "cell_type": "markdown",
   "id": "19c9cbf8",
   "metadata": {},
   "source": [
    "## 交差検証を使う場合のデータの保存\n",
    "1. cfg.data.dir_nameで指定しているディレクトリ上にfoldごとにデータを保存する\n",
    "2. input（特徴量）は `fold_{i}_X.npy` と保存する。(iはfold番号)\n",
    "3. target（ラベル・正解値）は　`fold_{i}_y.npy` と保存する。"
   ]
  },
  {
   "cell_type": "code",
   "execution_count": 4,
   "id": "458672fc",
   "metadata": {},
   "outputs": [],
   "source": [
    "save_dirs = \"./features/raw\"\n",
    "\n",
    "# Create the directory if it doesn't exist\n",
    "os.makedirs(save_dirs, exist_ok=True)\n",
    "\n",
    "# Number of folds\n",
    "num_folds = 5\n",
    "\n",
    "# Create KFold object\n",
    "kf = KFold(n_splits=num_folds, shuffle=True, random_state=42)\n",
    "\n",
    "# Perform the split and save the folds\n",
    "for i, (train_index, test_index) in enumerate(kf.split(X)):\n",
    "    fold_X = X[test_index]\n",
    "    fold_y = y[test_index]\n",
    "    \n",
    "    # Save the fold data and labels\n",
    "    np.save(f\"{save_dirs}/fold_{i}_X.npy\", fold_X)\n",
    "    np.save(f\"{save_dirs}/fold_{i}_y.npy\", fold_y)\n"
   ]
  },
  {
   "cell_type": "markdown",
   "id": "2aa6954d",
   "metadata": {},
   "source": [
    "## 交差検証を使わない場合（train_test か train_valid か train_valid_test）のデータの保存\n",
    "1. cfg.data.dir_nameで指定しているディレクトリ上にセットごとにデータを保存する\n",
    "2. input（特徴量）は `{mode}_X.npy` と保存する。(modeは{train or valid or test})\n",
    "3. target（ラベル・正解値）は　`{mode}_y.npy` と保存する。\n",
    "4. 下の例はtrain_valid_testに分割"
   ]
  },
  {
   "cell_type": "code",
   "execution_count": 5,
   "id": "e927c5aa",
   "metadata": {},
   "outputs": [],
   "source": [
    "save_dirs = \"./features/raw\"\n",
    "\n",
    "# Split the data into train, valid, and test sets (e.g., 60% train, 20% valid, 20% test)\n",
    "X_temp, X_test, y_temp, y_test = train_test_split(X, y, test_size=0.2, random_state=42)\n",
    "X_train, X_valid, y_train, y_valid = train_test_split(X_temp, y_temp, test_size=0.25, random_state=42)  # 0.25 x 0.8 = 0.2\n",
    "\n",
    "# Save each set as specified\n",
    "np.save(f\"{save_dirs}/train_X.npy\", X_train)\n",
    "np.save(f\"{save_dirs}/train_y.npy\", y_train)\n",
    "np.save(f\"{save_dirs}/valid_X.npy\", X_valid)\n",
    "np.save(f\"{save_dirs}/valid_y.npy\", y_valid)\n",
    "np.save(f\"{save_dirs}/test_X.npy\", X_test)\n",
    "np.save(f\"{save_dirs}/test_y.npy\", y_test)"
   ]
  }
 ],
 "metadata": {
  "kernelspec": {
   "display_name": ".venv",
   "language": "python",
   "name": "python3"
  },
  "language_info": {
   "codemirror_mode": {
    "name": "ipython",
    "version": 3
   },
   "file_extension": ".py",
   "mimetype": "text/x-python",
   "name": "python",
   "nbconvert_exporter": "python",
   "pygments_lexer": "ipython3",
   "version": "3.11.9"
  }
 },
 "nbformat": 4,
 "nbformat_minor": 5
}
