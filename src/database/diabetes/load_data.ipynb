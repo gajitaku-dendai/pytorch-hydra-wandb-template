{
 "cells": [
  {
   "cell_type": "code",
   "execution_count": 1,
   "id": "093b17f0",
   "metadata": {},
   "outputs": [],
   "source": [
    "import numpy as np\n",
    "from sklearn.datasets import load_diabetes"
   ]
  },
  {
   "cell_type": "code",
   "execution_count": 2,
   "id": "5314b26e",
   "metadata": {},
   "outputs": [
    {
     "name": "stdout",
     "output_type": "stream",
     "text": [
      "dict_keys(['data', 'target', 'frame', 'DESCR', 'feature_names', 'data_filename', 'target_filename', 'data_module'])\n"
     ]
    }
   ],
   "source": [
    "# Load the diabetes dataset\n",
    "diabetes_data = load_diabetes()\n",
    "\n",
    "# Display the keys of the dataset\n",
    "print(diabetes_data.keys())"
   ]
  },
  {
   "cell_type": "code",
   "execution_count": 3,
   "id": "f0a7451b",
   "metadata": {},
   "outputs": [
    {
     "name": "stdout",
     "output_type": "stream",
     "text": [
      "(442, 10) (442,)\n"
     ]
    }
   ],
   "source": [
    "# Assign data to x and target to label\n",
    "x = diabetes_data['data']\n",
    "y = diabetes_data['target']\n",
    "print(x.shape, y.shape)"
   ]
  },
  {
   "cell_type": "code",
   "execution_count": 4,
   "id": "458672fc",
   "metadata": {},
   "outputs": [],
   "source": [
    "import os\n",
    "import numpy as np\n",
    "from sklearn.model_selection import KFold\n",
    "\n",
    "# Create the directory if it doesn't exist\n",
    "os.makedirs(\"./features/raw\", exist_ok=True)\n",
    "\n",
    "# Number of folds\n",
    "num_folds = 5\n",
    "\n",
    "# Create KFold object\n",
    "kf = KFold(n_splits=num_folds, shuffle=True, random_state=42)\n",
    "\n",
    "# Perform the split and save the folds\n",
    "for i, (train_index, test_index) in enumerate(kf.split(x)):\n",
    "    fold_x = x[test_index]\n",
    "    fold_y = y[test_index]\n",
    "    \n",
    "    # Save the fold data and labels\n",
    "    np.save(f\"./features/raw/fold_{i}_X.npy\", fold_x)\n",
    "    np.save(f\"./features/raw/fold_{i}_y.npy\", fold_y)\n"
   ]
  }
 ],
 "metadata": {
  "kernelspec": {
   "display_name": ".venv",
   "language": "python",
   "name": "python3"
  },
  "language_info": {
   "codemirror_mode": {
    "name": "ipython",
    "version": 3
   },
   "file_extension": ".py",
   "mimetype": "text/x-python",
   "name": "python",
   "nbconvert_exporter": "python",
   "pygments_lexer": "ipython3",
   "version": "3.11.9"
  }
 },
 "nbformat": 4,
 "nbformat_minor": 5
}
